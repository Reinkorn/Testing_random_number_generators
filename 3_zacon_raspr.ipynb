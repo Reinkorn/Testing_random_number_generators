{
 "cells": [
  {
   "cell_type": "code",
   "execution_count": 59,
   "metadata": {},
   "outputs": [],
   "source": [
    "import random\n",
    "import numpy as np\n",
    "import matplotlib.pyplot as plt\n",
    "from pandas import Series\n",
    "from matplotlib import *\n",
    "\n",
    "from scipy import integrate\n",
    "from numpy import sqrt, sin, cos, pi"
   ]
  },
  {
   "cell_type": "code",
   "execution_count": 2,
   "metadata": {},
   "outputs": [],
   "source": [
    "def cor_test(buf):\n",
    "    \n",
    "    bufer = buf.copy()\n",
    "    key = []\n",
    "    for i in range(0, len(bufer)):\n",
    "        key.append(bin(i))\n",
    "    key = ''.join(key)\n",
    "    key = key.replace('b', '')\n",
    "    #print(key)  \n",
    "    sum_key = 0\n",
    "    sum_key_1 = 0\n",
    "    key_1= str(key[-1]+key[:(len(key)-1)])\n",
    "    \n",
    "    for i in range(len(key)):\n",
    "        sum_key+=int(key[i])\n",
    "    for i in range(len(key_1)):\n",
    "        sum_key_1+=int(key_1[i])\n",
    "    \n",
    "    top_sum_1=0\n",
    "    low_sum_1=0\n",
    "    low_sum_2=0\n",
    "    \n",
    "    for i in range(len(key)):\n",
    "        top_sum_1+=(int(key[i])*int(key_1[i]))\n",
    "    for i in range(len(key)):\n",
    "        low_sum_1+=(int(key[i])**2)\n",
    "    for i in range(len(key)):\n",
    "        low_sum_2+=(int(key_1[i])**2) \n",
    "        \n",
    "    R= ((len(key)*top_sum_1) - (sum_key*sum_key_1))/pow(((len(key)*low_sum_1 - sum_key**2)*((len(key)*low_sum_2) - sum_key_1**2)), 0.5)\n",
    "    R_mod =(1/(len(key)-1))+(2/(len(key)-2))*pow(((len(key))*((len(key))-3))/(len(key)+1) , 0.5)\n",
    "    print(f'Коэффициент автокорреляции при k=1:{R}')\n",
    "    print(f'Модульное значение (8):{R_mod}') \n",
    "\n",
    "def exp_interval_dov(model, teor):\n",
    "\n",
    "    bufer = model.copy()\n",
    "    \n",
    "    middle = sum(model)/len(model)\n",
    "    alpha = 0.05\n",
    "    M_teor = sum(teor)/len(teor)\n",
    "    d_pr = M_teor - middle \n",
    "    d_cr = np.sqrt(np.var(bufer)/(len(bufer) * alpha))\n",
    "    \n",
    "    print(f\"Практическое значение интервала {d_pr}\")\n",
    "    print(f\"Критическое значение значение интервала {d_cr}\")\n",
    "    \n",
    "    bufer_normal = np.random.normal(loc=0.0, scale=1.0, size=len(bufer))\n",
    "    minik = min(bufer_normal)\n",
    "    #print(minik)\n",
    "    for i in range(0, len(bufer_normal)):\n",
    "        bufer_normal[i] = (bufer_normal[i] + np.abs(minik))\n",
    "                           \n",
    "    maxik = max(bufer_normal)\n",
    "    for i in range(0, len(bufer_normal)):\n",
    "        bufer_normal[i] = (bufer_normal[i])/maxik\n",
    "    \n",
    "    middle_normal = sum(bufer_normal)/len(bufer_normal)\n",
    "    \n",
    "    x_2 = 3.84\n",
    "    d_pr_normal = M_teor - middle_normal \n",
    "    d_cr_normal = np.sqrt(x_2 * np.var(bufer_normal)/(len(bufer_normal)))\n",
    "    \n",
    "    print(f\"Практическое значение интервала для нормальных чисел {d_pr_normal}\")\n",
    "    print(f\"Критическое значение значение интервала для нормальных чисел {d_cr_normal}\")\n",
    "\n",
    "def fric_test_exp(model, teor):#Частотный тест\n",
    "    \n",
    "    bufer = model.copy()\n",
    "    \n",
    "    drob = 0.1\n",
    "    #P_teor = len(buf)/10\n",
    "    x_1 = x_2 = x_3 = x_4 = x_5 = x_6 = x_7 = x_8 = x_9 = x_10 = 0\n",
    "    x = []\n",
    "    for i in range(0, len(bufer)):\n",
    "        if bufer[i] <= drob:\n",
    "            x_1 += 1\n",
    "        elif (bufer[i] > drob and bufer[i] <= (drob * 2)):\n",
    "            x_2 += 1\n",
    "        elif (bufer[i] > drob * 2 and bufer[i] <= (drob * 3)):\n",
    "            x_3 += 1\n",
    "        elif (bufer[i] > drob * 3 and bufer[i] <= (drob * 4)):\n",
    "            x_4 += 1\n",
    "        elif (bufer[i] > drob * 4 and bufer[i] <= (drob * 5)):\n",
    "            x_5 += 1\n",
    "        elif (bufer[i] > drob * 5 and bufer[i] <= (drob * 6)):\n",
    "            x_6 += 1\n",
    "        elif (bufer[i] > drob * 6 and bufer[i] <= (drob * 7)):\n",
    "            x_7 += 1\n",
    "        elif (bufer[i] > drob * 7 and bufer[i] <= (drob * 8)):\n",
    "            x_8 += 1\n",
    "        elif (bufer[i] > drob * 8 and bufer[i] <= (drob * 9)):\n",
    "            x_9 += 1\n",
    "        elif (bufer[i] > drob * 9 and bufer[i] <= (drob * 10)):\n",
    "            x_10 += 1\n",
    "    x.append(x_1)\n",
    "    x.append(x_2)\n",
    "    x.append(x_3)\n",
    "    x.append(x_4)\n",
    "    x.append(x_5)\n",
    "    x.append(x_6)\n",
    "    x.append(x_7)\n",
    "    x.append(x_8)\n",
    "    x.append(x_9)\n",
    "    x.append(x_10)\n",
    "     \n",
    "    P_teor =0.1    \n",
    "    x_1 = x_1/len(bufer)\n",
    "    x_2 = x_2/len(bufer)\n",
    "    x_3 = x_3/len(bufer)\n",
    "    x_4 = x_4/len(bufer)\n",
    "    x_5 = x_5/len(bufer)\n",
    "    x_6 = x_6/len(bufer)\n",
    "    x_7 = x_7/len(bufer)\n",
    "    x_8 = x_8/len(bufer)\n",
    "    x_9 = x_9/len(bufer)\n",
    "    x_10 = x_10/len(bufer)\n",
    "        \n",
    "    X_2 = (((x_1 - P_teor) ** 2)/P_teor) + (((x_2 - P_teor) ** 2)/P_teor) + (((x_3 - P_teor) ** 2)/P_teor) + (((x_4 - P_teor) ** 2)/P_teor) + (((x_5 - P_teor) ** 2)/P_teor) + (((x_6 - P_teor) ** 2)/P_teor) + (((x_7 - P_teor) ** 2)/P_teor) + (((x_8 - P_teor) ** 2)/P_teor) + (((x_9 - P_teor) ** 2)/P_teor)  + (((x_10 - P_teor) ** 2)/P_teor)\n",
    "        \n",
    "    return X_2\n",
    "    \n",
    "    #drob = np.exp(-1)\n",
    "    #P_teor = len(buf)/10\n",
    "    #x = []\n",
    "    #x_teor = []\n",
    "    #for i in range(0, 10):\n",
    "    #    fuck = 0\n",
    "    #    for j in range(0 + i*500, 500 + i*500):\n",
    "    #        fuck += bufer[j]\n",
    "    #    x.append(fuck/500)\n",
    "    #    fuck = 0\n",
    "    #print(x)\n",
    "    #for i in range(0, 10):\n",
    "    #    x_teor.append((np.exp(0 - i + 1)- np.exp(0 - i))/2)\n",
    "    #\n",
    "    #X_2 = 0\n",
    "    #\n",
    "    #for i in range(0, 10):\n",
    "    #    X_2 += ((x_teor[i] - x[i])**2)/2\n",
    "    \n",
    "    #return X_2\n",
    "\n",
    "#buf_paretto = np.random.pareto(a=1, size=(1, 10000))[0]\n",
    "#buf_exp = exp_raspr(10000)\n",
    "#buf_weib = np.random.weibull(1, 1000) \n",
    "\n"
   ]
  },
  {
   "cell_type": "markdown",
   "metadata": {},
   "source": [
    "Экспоненциальный закон распределения"
   ]
  },
  {
   "cell_type": "code",
   "execution_count": 76,
   "metadata": {},
   "outputs": [],
   "source": [
    "def exp_raspr_teor(N):\n",
    "    L = 0.002\n",
    "    y = [np.exp(-i*L) for i in range(0, N)]\n",
    "    return y\n",
    "def model_raspr(N):\n",
    "    L = 0.002 \n",
    "    y = []\n",
    "    for i in range(0, N):\n",
    "        y.append(-1/L*np.log(np.random.random(1)[0]))\n",
    "    return y"
   ]
  },
  {
   "cell_type": "code",
   "execution_count": 73,
   "metadata": {
    "scrolled": false
   },
   "outputs": [
    {
     "data": {
      "image/png": "[encoded data removed]",
      "text/plain": [
       "<Figure size 432x288 with 1 Axes>"
      ]
     },
     "metadata": {
      "needs_background": "light"
     },
     "output_type": "display_data"
    }
   ],
   "source": [
    "plt.plot(exp_raspr_teor(5000))\n",
    "plt.show()"
   ]
  },
  {
   "cell_type": "code",
   "execution_count": 118,
   "metadata": {},
   "outputs": [
    {
     "name": "stdout",
     "output_type": "stream",
     "text": [
      "Значение Хи квадрат из частотного теста:3.3568512000000004\n",
      "Коэффициент автокорреляции при k=1:-0.08391894678384228\n",
      "Модульное значение (8):0.008060707915180673\n",
      "Практическое значение интервала -0.007557756442635261\n",
      "Критическое значение значение интервала 0.006803373031387276\n",
      "Практическое значение интервала для нормальных чисел -0.4075807252001695\n",
      "Критическое значение значение интервала для нормальных чисел 0.003745074997541361\n"
     ]
    }
   ],
   "source": [
    "buf_exp = model_raspr(5000)\n",
    "buf_exp = buf_exp/max(buf_exp)\n",
    "print(f'Значение Хи квадрат из частотного теста:{fric_test_exp(buf_exp, exp_raspr_teor(5000))}')\n",
    "cor_test(buf_exp)\n",
    "exp_interval_dov(buf_exp, exp_raspr_teor(5000))\n",
    "\n",
    "#print(buf_weib)\n",
    "#print(exp_raspr(100))"
   ]
  },
  {
   "cell_type": "code",
   "execution_count": 101,
   "metadata": {},
   "outputs": [
    {
     "name": "stdout",
     "output_type": "stream",
     "text": [
      "count    5000.000000\n",
      "mean        0.115860\n",
      "std         0.115418\n",
      "min         0.000016\n",
      "25%         0.034510\n",
      "50%         0.080367\n",
      "75%         0.158975\n",
      "max         1.000000\n",
      "dtype: float64\n"
     ]
    },
    {
     "data": {
      "image/png": "[encoded data removed]",
      "text/plain": [
       "<Figure size 432x288 with 1 Axes>"
      ]
     },
     "metadata": {
      "needs_background": "light"
     },
     "output_type": "display_data"
    },
    {
     "data": {
      "image/png": "[encoded data removed]",
      "text/plain": [
       "<Figure size 432x288 with 1 Axes>"
      ]
     },
     "metadata": {
      "needs_background": "light"
     },
     "output_type": "display_data"
    }
   ],
   "source": [
    "\n",
    "series = Series(buf_exp)\n",
    "print(series.describe())\n",
    "series.plot()\n",
    "pyplot.show()\n",
    "\n",
    "# histogram plot\n",
    "series.hist()\n",
    "pyplot.show()"
   ]
  },
  {
   "cell_type": "markdown",
   "metadata": {},
   "source": [
    "Распределение Парето "
   ]
  },
  {
   "cell_type": "code",
   "execution_count": 159,
   "metadata": {},
   "outputs": [],
   "source": [
    "def cor_test(buf):\n",
    "    \n",
    "    bufer = buf.copy()\n",
    "    key = []\n",
    "    for i in range(0, len(bufer)):\n",
    "        key.append(bin(i))\n",
    "    key = ''.join(key)\n",
    "    key = key.replace('b', '')\n",
    "    #print(key)  \n",
    "    sum_key = 0\n",
    "    sum_key_1 = 0\n",
    "    key_1= str(key[-1]+key[:(len(key)-1)])\n",
    "    \n",
    "    for i in range(len(key)):\n",
    "        sum_key+=int(key[i])\n",
    "    for i in range(len(key_1)):\n",
    "        sum_key_1+=int(key_1[i])\n",
    "    \n",
    "    top_sum_1=0\n",
    "    low_sum_1=0\n",
    "    low_sum_2=0\n",
    "    \n",
    "    for i in range(len(key)):\n",
    "        top_sum_1+=(int(key[i])*int(key_1[i]))\n",
    "    for i in range(len(key)):\n",
    "        low_sum_1+=(int(key[i])**2)\n",
    "    for i in range(len(key)):\n",
    "        low_sum_2+=(int(key_1[i])**2) \n",
    "        \n",
    "    R= ((len(key)*top_sum_1) - (sum_key*sum_key_1))/pow(((len(key)*low_sum_1 - sum_key**2)*((len(key)*low_sum_2) - sum_key_1**2)), 0.5)\n",
    "    R_mod =(1/(len(key)-1))+(2/(len(key)-2))*pow(((len(key))*((len(key))-3))/(len(key)+1) , 0.5)\n",
    "    print(f'Коэффициент автокорреляции при k=1:{R}')\n",
    "    print(f'Модульное значение (8):{R_mod}') \n",
    "\n",
    "def par_interval_dov(model, teor):\n",
    "\n",
    "    bufer = model.copy()\n",
    "    m = max(bufer)\n",
    "    for i in range(0, len(bufer)):\n",
    "        bufer[i] = bufer[i]/m\n",
    "    \n",
    "    middle = sum(model)/len(model)\n",
    "    alpha = 0.05\n",
    "    M_teor = sum(teor)/len(teor)\n",
    "    d_pr = M_teor - middle \n",
    "    d_cr = np.sqrt(np.var(bufer)/(len(bufer) * alpha))\n",
    "    \n",
    "    print(f\"Практическое значение интервала {d_pr}\")\n",
    "    print(f\"Критическое значение значение интервала {d_cr}\")\n",
    "    \n",
    "    bufer_normal = np.random.normal(loc=0.0, scale=1.0, size=len(bufer))\n",
    "    minik = min(bufer_normal)\n",
    "    #print(minik)\n",
    "    for i in range(0, len(bufer_normal)):\n",
    "        bufer_normal[i] = (bufer_normal[i] + np.abs(minik))\n",
    "                           \n",
    "    maxik = max(bufer_normal)\n",
    "    for i in range(0, len(bufer_normal)):\n",
    "        bufer_normal[i] = (bufer_normal[i])/maxik\n",
    "    \n",
    "    middle_normal = sum(bufer_normal)/len(bufer_normal)\n",
    "    \n",
    "    x_2 = 3.84\n",
    "    d_pr_normal = M_teor - middle_normal \n",
    "    d_cr_normal = np.sqrt(x_2 * np.var(bufer_normal)/(len(bufer_normal)))\n",
    "    \n",
    "    print(f\"Практическое значение интервала для нормальных чисел {d_pr_normal}\")\n",
    "    print(f\"Критическое значение значение интервала для нормальных чисел {d_cr_normal}\")\n",
    "\n",
    "def fric_test_par(model, teor):#Частотный тест\n",
    "    \n",
    "    bufer = model.copy()\n",
    "    m = max(bufer)\n",
    "    for i in range(0, len(bufer)):\n",
    "        bufer[i] = bufer[i]/m\n",
    "    \n",
    "    drob = 0.1\n",
    "    #P_teor = len(buf)/10\n",
    "    x_1 = x_2 = x_3 = x_4 = x_5 = x_6 = x_7 = x_8 = x_9 = x_10 = 0\n",
    "    x = []\n",
    "    for i in range(0, len(bufer)):\n",
    "        if bufer[i] <= drob:\n",
    "            x_1 += 1\n",
    "        elif (bufer[i] > drob and bufer[i] <= (drob * 2)):\n",
    "            x_2 += 1\n",
    "        elif (bufer[i] > drob * 2 and bufer[i] <= (drob * 3)):\n",
    "            x_3 += 1\n",
    "        elif (bufer[i] > drob * 3 and bufer[i] <= (drob * 4)):\n",
    "            x_4 += 1\n",
    "        elif (bufer[i] > drob * 4 and bufer[i] <= (drob * 5)):\n",
    "            x_5 += 1\n",
    "        elif (bufer[i] > drob * 5 and bufer[i] <= (drob * 6)):\n",
    "            x_6 += 1\n",
    "        elif (bufer[i] > drob * 6 and bufer[i] <= (drob * 7)):\n",
    "            x_7 += 1\n",
    "        elif (bufer[i] > drob * 7 and bufer[i] <= (drob * 8)):\n",
    "            x_8 += 1\n",
    "        elif (bufer[i] > drob * 8 and bufer[i] <= (drob * 9)):\n",
    "            x_9 += 1\n",
    "        elif (bufer[i] > drob * 9 and bufer[i] <= (drob * 10)):\n",
    "            x_10 += 1\n",
    "    x.append(x_1)\n",
    "    x.append(x_2)\n",
    "    x.append(x_3)\n",
    "    x.append(x_4)\n",
    "    x.append(x_5)\n",
    "    x.append(x_6)\n",
    "    x.append(x_7)\n",
    "    x.append(x_8)\n",
    "    x.append(x_9)\n",
    "    x.append(x_10)\n",
    "     \n",
    "    P_teor =0.1    \n",
    "    x_1 = x_1/len(bufer)\n",
    "    x_2 = x_2/len(bufer)\n",
    "    x_3 = x_3/len(bufer)\n",
    "    x_4 = x_4/len(bufer)\n",
    "    x_5 = x_5/len(bufer)\n",
    "    x_6 = x_6/len(bufer)\n",
    "    x_7 = x_7/len(bufer)\n",
    "    x_8 = x_8/len(bufer)\n",
    "    x_9 = x_9/len(bufer)\n",
    "    x_10 = x_10/len(bufer)\n",
    "        \n",
    "    X_2 = (((x_1 - P_teor) ** 2)/P_teor) + (((x_2 - P_teor) ** 2)/P_teor) + (((x_3 - P_teor) ** 2)/P_teor) + (((x_4 - P_teor) ** 2)/P_teor) + (((x_5 - P_teor) ** 2)/P_teor) + (((x_6 - P_teor) ** 2)/P_teor) + (((x_7 - P_teor) ** 2)/P_teor) + (((x_8 - P_teor) ** 2)/P_teor) + (((x_9 - P_teor) ** 2)/P_teor)  + (((x_10 - P_teor) ** 2)/P_teor)\n",
    "        \n",
    "    return X_2"
   ]
  },
  {
   "cell_type": "code",
   "execution_count": 168,
   "metadata": {},
   "outputs": [],
   "source": [
    "def paretto(N):\n",
    "    c = 0.2\n",
    "    y = [i**(-c - 1) for i in range(1, N)]\n",
    "    return y\n",
    "def model_paretto(N):\n",
    "    x = np.random.pareto(a=0.2, size=(1, N))[0]\n",
    "    return x"
   ]
  },
  {
   "cell_type": "code",
   "execution_count": 181,
   "metadata": {
    "scrolled": false
   },
   "outputs": [
    {
     "name": "stdout",
     "output_type": "stream",
     "text": [
      "Значение Хи квадрат из частотного теста:8.801999999999998\n",
      "Коэффициент автокорреляции при k=1:-0.18561275723074747\n",
      "Модульное значение (8):0.07852300517271356\n",
      "Практическое значение интервала -129321152110.25343\n",
      "Критическое значение значение интервала 0.044496764607210644\n",
      "Практическое значение интервала для нормальных чисел -0.4279666786498244\n",
      "Критическое значение значение интервала для нормальных чисел 0.04386890212602825\n"
     ]
    }
   ],
   "source": [
    "N = 100\n",
    "buf_par = model_paretto(N)\n",
    "print(f'Значение Хи квадрат из частотного теста:{fric_test_par(buf_par, paretto(N))}')\n",
    "cor_test(buf_par)\n",
    "par_interval_dov(buf_par, paretto(N))"
   ]
  },
  {
   "cell_type": "code",
   "execution_count": 170,
   "metadata": {},
   "outputs": [
    {
     "data": {
      "text/plain": [
       "array([1.71832471e+01, 9.21525877e-01, 5.39238541e-01, 1.58568487e+01,\n",
       "       4.75254036e-01, 2.95725863e+03, 7.06259694e+04, 1.45326491e+01,\n",
       "       2.82282458e+03, 6.11681418e+01, 7.09376233e+03, 1.03432528e+08,\n",
       "       2.92777720e+00, 1.61240556e+00, 1.34469788e+02, 1.50391182e+02,\n",
       "       1.12986669e+04, 2.06569731e-02, 1.99847033e+03, 9.07803866e+00,\n",
       "       5.93967528e+00, 9.92225623e+01, 2.72906115e+06, 6.04633391e+00,\n",
       "       1.45218247e+07, 1.29422999e+01, 6.21839157e+01, 1.47412065e+01,\n",
       "       3.37378140e+00, 1.71338768e+04, 5.95800710e+00, 4.55495463e+02,\n",
       "       5.82481351e+00, 3.72438122e+00, 5.45821492e+01, 1.34625153e+03,\n",
       "       8.06697500e+06, 9.45796681e+00, 2.95310882e+00, 1.63898322e+01,\n",
       "       1.08065896e+01, 1.11099621e+03, 8.25169909e+06, 8.58322957e+06,\n",
       "       1.74994078e+02, 7.85542665e-01, 2.28749866e+03, 6.49998431e+05,\n",
       "       7.00974251e+00, 3.40118858e+00, 3.07436111e+00, 9.50255018e-02,\n",
       "       7.98426214e-01, 7.14832361e+02, 3.36203306e+07, 5.66649467e+02,\n",
       "       4.87144441e+01, 1.71022758e+02, 9.59931722e+05, 1.24864422e+00,\n",
       "       1.52671196e+00, 2.84178531e+01, 9.51585409e-01, 1.17961870e+02,\n",
       "       2.66685454e+02, 5.77538684e+06, 9.37067626e-01, 2.47849743e+03,\n",
       "       4.49580543e-01, 7.57028449e+01, 2.25758608e+02, 4.47231706e-01,\n",
       "       7.34617984e+01, 6.15893438e+01, 1.50715132e+02, 9.38050894e+00,\n",
       "       8.95265692e+03, 3.34864781e-01, 5.62344340e+01, 5.00700498e+04,\n",
       "       5.20319500e+00, 6.76262324e+01, 7.83946279e+01, 1.12956997e+01,\n",
       "       1.50338244e+01, 4.71757244e+04, 3.25516615e-01, 1.54260031e+03,\n",
       "       1.80865475e+02, 1.32908024e+02, 9.11540500e+09, 2.16251431e+00,\n",
       "       1.36346211e+08, 1.19368501e+06, 5.05728705e+01, 5.00773410e+01,\n",
       "       1.73066690e+00, 2.30692866e+01, 2.53852837e+09, 2.67141014e+05])"
      ]
     },
     "execution_count": 170,
     "metadata": {},
     "output_type": "execute_result"
    }
   ],
   "source": [
    "model_paretto(N)"
   ]
  },
  {
   "cell_type": "code",
   "execution_count": 196,
   "metadata": {},
   "outputs": [
    {
     "name": "stdout",
     "output_type": "stream",
     "text": [
      "count    1.000000e+02\n",
      "mean     2.824971e+07\n",
      "std      2.100651e+08\n",
      "min      1.419654e-01\n",
      "25%      4.214054e+00\n",
      "50%      2.768780e+01\n",
      "75%      2.511581e+03\n",
      "max      2.041949e+09\n",
      "dtype: float64\n"
     ]
    },
    {
     "data": {
      "image/png": "[encoded data removed]",
      "text/plain": [
       "<Figure size 432x288 with 1 Axes>"
      ]
     },
     "metadata": {
      "needs_background": "light"
     },
     "output_type": "display_data"
    },
    {
     "data": {
      "image/png": "[encoded data removed]",
      "text/plain": [
       "<Figure size 432x288 with 1 Axes>"
      ]
     },
     "metadata": {
      "needs_background": "light"
     },
     "output_type": "display_data"
    }
   ],
   "source": [
    "series = Series(model_paretto(N))\n",
    "print(series.describe())\n",
    "series.plot()\n",
    "pyplot.show()\n",
    "\n",
    "# histogram plot\n",
    "series.hist()\n",
    "pyplot.show()"
   ]
  },
  {
   "cell_type": "markdown",
   "metadata": {},
   "source": [
    "Распределение Вейбулла"
   ]
  },
  {
   "cell_type": "code",
   "execution_count": 68,
   "metadata": {},
   "outputs": [],
   "source": [
    "def cor_test(buf):\n",
    "    \n",
    "    bufer = buf.copy()\n",
    "    key = []\n",
    "    for i in range(0, len(bufer)):\n",
    "        key.append(bin(i))\n",
    "    key = ''.join(key)\n",
    "    key = key.replace('b', '')\n",
    "    #print(key)  \n",
    "    sum_key = 0\n",
    "    sum_key_1 = 0\n",
    "    key_1= str(key[-1]+key[:(len(key)-1)])\n",
    "    \n",
    "    for i in range(len(key)):\n",
    "        sum_key+=int(key[i])\n",
    "    for i in range(len(key_1)):\n",
    "        sum_key_1+=int(key_1[i])\n",
    "    \n",
    "    top_sum_1=0\n",
    "    low_sum_1=0\n",
    "    low_sum_2=0\n",
    "    \n",
    "    for i in range(len(key)):\n",
    "        top_sum_1+=(int(key[i])*int(key_1[i]))\n",
    "    for i in range(len(key)):\n",
    "        low_sum_1+=(int(key[i])**2)\n",
    "    for i in range(len(key)):\n",
    "        low_sum_2+=(int(key_1[i])**2) \n",
    "        \n",
    "    R= ((len(key)*top_sum_1) - (sum_key*sum_key_1))/pow(((len(key)*low_sum_1 - sum_key**2)*((len(key)*low_sum_2) - sum_key_1**2)), 0.5)\n",
    "    R_mod =(1/(len(key)-1))+(2/(len(key)-2))*pow(((len(key))*((len(key))-3))/(len(key)+1) , 0.5)\n",
    "    print(f'Коэффициент автокорреляции при k=1:{R}')\n",
    "    print(f'Модульное значение (8):{R_mod}') \n",
    "\n",
    "\n",
    "def f(x):\n",
    "    return (x*((c*x**(c-1))* np.exp(-x**c)))\n",
    "v, err = integrate.quad(f, 0, np.inf)\n",
    "print(v)\n",
    "\n",
    "def veib_interval_dov(model, teor):\n",
    "\n",
    "    bufer = model.copy()\n",
    "    m = max(bufer)\n",
    "    for i in range(0, len(bufer)):\n",
    "        bufer[i] = bufer[i]/m\n",
    "    \n",
    "    middle = sum(model)/len(model)\n",
    "    alpha = 0.05\n",
    "    M_teor = v\n",
    "    d_pr = M_teor - middle \n",
    "    d_cr = np.sqrt(np.var(bufer)/(len(bufer) * alpha))\n",
    "    \n",
    "    print(f\"Практическое значение интервала {d_pr}\")\n",
    "    print(f\"Критическое значение значение интервала {d_cr}\")\n",
    "    \n",
    "    bufer_normal = np.random.normal(loc=0.0, scale=1.0, size=len(bufer))\n",
    "    minik = min(bufer_normal)\n",
    "    #print(minik)\n",
    "    for i in range(0, len(bufer_normal)):\n",
    "        bufer_normal[i] = (bufer_normal[i] + np.abs(minik))\n",
    "                           \n",
    "    maxik = max(bufer_normal)\n",
    "    for i in range(0, len(bufer_normal)):\n",
    "        bufer_normal[i] = (bufer_normal[i])/maxik\n",
    "    \n",
    "    middle_normal = sum(bufer_normal)/len(bufer_normal)\n",
    "    \n",
    "    x_2 = 3.84\n",
    "    d_pr_normal = M_teor - middle_normal \n",
    "    d_cr_normal = np.sqrt(x_2 * np.var(bufer_normal)/(len(bufer_normal)))\n",
    "    \n",
    "    print(f\"Практическое значение интервала для нормальных чисел {d_pr_normal}\")\n",
    "    print(f\"Критическое значение значение интервала для нормальных чисел {d_cr_normal}\")\n",
    "\n",
    "def fric_test_veib(model, teor):#Частотный тест\n",
    "    \n",
    "    bufer = model.copy()\n",
    "    m = max(bufer)\n",
    "    for i in range(0, len(bufer)):\n",
    "        bufer[i] = bufer[i]/m\n",
    "    \n",
    "    \n",
    "    drob = 0.1\n",
    "    #P_teor = len(buf)/10\n",
    "    x_1 = x_2 = x_3 = x_4 = x_5 = x_6 = x_7 = x_8 = x_9 = x_10 = 0\n",
    "    x = []\n",
    "    for i in range(0, len(bufer)):\n",
    "        if bufer[i] <= drob:\n",
    "            x_1 += 1\n",
    "        elif (bufer[i] > drob and bufer[i] <= (drob * 2)):\n",
    "            x_2 += 1\n",
    "        elif (bufer[i] > drob * 2 and bufer[i] <= (drob * 3)):\n",
    "            x_3 += 1\n",
    "        elif (bufer[i] > drob * 3 and bufer[i] <= (drob * 4)):\n",
    "            x_4 += 1\n",
    "        elif (bufer[i] > drob * 4 and bufer[i] <= (drob * 5)):\n",
    "            x_5 += 1\n",
    "        elif (bufer[i] > drob * 5 and bufer[i] <= (drob * 6)):\n",
    "            x_6 += 1\n",
    "        elif (bufer[i] > drob * 6 and bufer[i] <= (drob * 7)):\n",
    "            x_7 += 1\n",
    "        elif (bufer[i] > drob * 7 and bufer[i] <= (drob * 8)):\n",
    "            x_8 += 1\n",
    "        elif (bufer[i] > drob * 8 and bufer[i] <= (drob * 9)):\n",
    "            x_9 += 1\n",
    "        elif (bufer[i] > drob * 9 and bufer[i] <= (drob * 10)):\n",
    "            x_10 += 1\n",
    "    x.append(x_1)\n",
    "    x.append(x_2)\n",
    "    x.append(x_3)\n",
    "    x.append(x_4)\n",
    "    x.append(x_5)\n",
    "    x.append(x_6)\n",
    "    x.append(x_7)\n",
    "    x.append(x_8)\n",
    "    x.append(x_9)\n",
    "    x.append(x_10)\n",
    "     \n",
    "    P_teor =0.1    \n",
    "    x_1 = x_1/len(bufer)\n",
    "    x_2 = x_2/len(bufer)\n",
    "    x_3 = x_3/len(bufer)\n",
    "    x_4 = x_4/len(bufer)\n",
    "    x_5 = x_5/len(bufer)\n",
    "    x_6 = x_6/len(bufer)\n",
    "    x_7 = x_7/len(bufer)\n",
    "    x_8 = x_8/len(bufer)\n",
    "    x_9 = x_9/len(bufer)\n",
    "    x_10 = x_10/len(bufer)\n",
    "        \n",
    "    X_2 = (((x_1 - P_teor) ** 2)/P_teor) + (((x_2 - P_teor) ** 2)/P_teor) + (((x_3 - P_teor) ** 2)/P_teor) + (((x_4 - P_teor) ** 2)/P_teor) + (((x_5 - P_teor) ** 2)/P_teor) + (((x_6 - P_teor) ** 2)/P_teor) + (((x_7 - P_teor) ** 2)/P_teor) + (((x_8 - P_teor) ** 2)/P_teor) + (((x_9 - P_teor) ** 2)/P_teor)  + (((x_10 - P_teor) ** 2)/P_teor)\n",
    "        \n",
    "    return X_2"
   ]
  },
  {
   "cell_type": "code",
   "execution_count": 82,
   "metadata": {},
   "outputs": [],
   "source": [
    "def veibul(N):\n",
    "    c = 1\n",
    "    b = 1\n",
    "    y = [(c*i**(c-1))*np.exp(-(i/b)**c) for i in range(1, N)]\n",
    "    return y\n",
    "c = 3\n",
    "r = weibull_min.rvs(c, size=1000)"
   ]
  },
  {
   "cell_type": "code",
   "execution_count": 86,
   "metadata": {
    "scrolled": true
   },
   "outputs": [
    {
     "name": "stdout",
     "output_type": "stream",
     "text": [
      "Значение Хи квадрат из частотного теста:0.7659400000000001\n",
      "Коэффициент автокорреляции при k=1:-0.10978607516444815\n",
      "Модульное значение (8):0.020122266896857543\n",
      "Практическое значение интервала -0.002987197935096053\n",
      "Критическое значение значение интервала 0.022521514961740822\n",
      "Практическое значение интервала для нормальных чисел 0.3382088172817139\n",
      "Критическое значение значение интервала для нормальных чисел 0.00916496730494277\n"
     ]
    }
   ],
   "source": [
    "N = 10000\n",
    "buf_veib = r\n",
    "print(f'Значение Хи квадрат из частотного теста:{fric_test_veib(buf_veib, veibul(N))}')\n",
    "cor_test(buf_veib)\n",
    "veib_interval_dov(buf_veib, veibul(N))"
   ]
  },
  {
   "cell_type": "code",
   "execution_count": null,
   "metadata": {},
   "outputs": [],
   "source": []
  },
  {
   "cell_type": "code",
   "execution_count": 14,
   "metadata": {},
   "outputs": [
    {
     "data": {
      "image/png": "[encoded data removed]",
      "text/plain": [
       "<Figure size 432x288 with 1 Axes>"
      ]
     },
     "metadata": {
      "needs_background": "light"
     },
     "output_type": "display_data"
    }
   ],
   "source": [
    "plt.plot(veibul(10))\n",
    "plt.show()"
   ]
  },
  {
   "cell_type": "code",
   "execution_count": 22,
   "metadata": {},
   "outputs": [
    {
     "name": "stdout",
     "output_type": "stream",
     "text": [
      "count     9.000000e+00\n",
      "mean      1.230738e-01\n",
      "std       3.677141e-01\n",
      "min      6.094372e-315\n",
      "25%      1.600700e-147\n",
      "50%       3.874815e-53\n",
      "75%       5.074728e-11\n",
      "max       1.103638e+00\n",
      "dtype: float64\n"
     ]
    },
    {
     "data": {
      "image/png": "[encoded data removed]",
      "text/plain": [
       "<Figure size 432x288 with 1 Axes>"
      ]
     },
     "metadata": {
      "needs_background": "light"
     },
     "output_type": "display_data"
    },
    {
     "data": {
      "image/png": "[encoded data removed]",
      "text/plain": [
       "<Figure size 432x288 with 1 Axes>"
      ]
     },
     "metadata": {
      "needs_background": "light"
     },
     "output_type": "display_data"
    }
   ],
   "source": [
    "series = Series(veibul(10))\n",
    "print(series.describe())\n",
    "series.plot()\n",
    "pyplot.show()\n",
    "\n",
    "# histogram plot\n",
    "series.hist()\n",
    "pyplot.show()"
   ]
  },
  {
   "cell_type": "code",
   "execution_count": 75,
   "metadata": {},
   "outputs": [
    {
     "name": "stdout",
     "output_type": "stream",
     "text": [
      "0.9999999999999998\n"
     ]
    }
   ],
   "source": [
    "c = 1\n",
    "def f(x):\n",
    "    return (x*((c*x**(c-1))* np.exp(-x**c)))\n",
    "v, err = integrate.quad(f, 0, np.inf)\n",
    "print(v)"
   ]
  },
  {
   "cell_type": "code",
   "execution_count": 55,
   "metadata": {},
   "outputs": [
    {
     "data": {
      "text/plain": [
       "[<matplotlib.lines.Line2D at 0x1e57afe7c40>]"
      ]
     },
     "execution_count": 55,
     "metadata": {},
     "output_type": "execute_result"
    }
   ],
   "source": [
    "rv = weibull_min(c)\n",
    "ax.plot(x, rv.pdf(x), 'k-', lw=2, label='frozen pdf')"
   ]
  },
  {
   "cell_type": "code",
   "execution_count": 56,
   "metadata": {},
   "outputs": [
    {
     "data": {
      "text/plain": [
       "True"
      ]
     },
     "execution_count": 56,
     "metadata": {},
     "output_type": "execute_result"
    }
   ],
   "source": [
    "vals = weibull_min.ppf([0.001, 0.5, 0.999], c)\n",
    "np.allclose([0.001, 0.5, 0.999], weibull_min.cdf(vals, c))"
   ]
  },
  {
   "cell_type": "code",
   "execution_count": 57,
   "metadata": {},
   "outputs": [],
   "source": [
    "r = weibull_min.rvs(c, size=1000)"
   ]
  },
  {
   "cell_type": "code",
   "execution_count": 58,
   "metadata": {},
   "outputs": [
    {
     "data": {
      "image/png": "[encoded data removed]",
      "text/plain": [
       "<Figure size 432x288 with 1 Axes>"
      ]
     },
     "metadata": {
      "needs_background": "light"
     },
     "output_type": "display_data"
    }
   ],
   "source": [
    "fig, ax = plt.subplots(1, 1)\n",
    "x = np.linspace(weibull_min.ppf(0.01, c),\n",
    "                weibull_min.ppf(0.99, c), 100)\n",
    "ax.plot(x, weibull_min.pdf(x, c),\n",
    "       'r-', lw=5, alpha=0.6, label='weibull')\n",
    "ax.hist(r, density=True, histtype='stepfilled', alpha=0.2)\n",
    "ax.legend(loc='best', frameon=False)\n",
    "\n",
    "\n",
    "plt.show()"
   ]
  }
 ],
 "metadata": {
  "kernelspec": {
   "display_name": "Python 3",
   "language": "python",
   "name": "python3"
  },
  "language_info": {
   "codemirror_mode": {
    "name": "ipython",
    "version": 3
   },
   "file_extension": ".py",
   "mimetype": "text/x-python",
   "name": "python",
   "nbconvert_exporter": "python",
   "pygments_lexer": "ipython3",
   "version": "3.8.5"
  }
 },
 "nbformat": 4,
 "nbformat_minor": 4
}
